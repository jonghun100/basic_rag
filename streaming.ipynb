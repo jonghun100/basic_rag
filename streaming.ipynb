{
 "cells": [
  {
   "cell_type": "code",
   "execution_count": null,
   "id": "47f42f98",
   "metadata": {},
   "outputs": [
    {
     "name": "stdout",
     "output_type": "stream",
     "text": [
      "Requirement already satisfied: langchain-anthropic in /Users/baegjonghun/.pyenv/versions/3.11.10/lib/python3.11/site-packages (0.3.17)\n",
      "Requirement already satisfied: anthropic in /Users/baegjonghun/.pyenv/versions/3.11.10/lib/python3.11/site-packages (0.58.2)\n",
      "Requirement already satisfied: langchain-core<1.0.0,>=0.3.68 in /Users/baegjonghun/.pyenv/versions/3.11.10/lib/python3.11/site-packages (from langchain-anthropic) (0.3.69)\n",
      "Requirement already satisfied: pydantic<3.0.0,>=2.7.4 in /Users/baegjonghun/.pyenv/versions/3.11.10/lib/python3.11/site-packages (from langchain-anthropic) (2.11.3)\n",
      "Requirement already satisfied: anyio<5,>=3.5.0 in /Users/baegjonghun/.pyenv/versions/3.11.10/lib/python3.11/site-packages (from anthropic) (4.9.0)\n",
      "Requirement already satisfied: distro<2,>=1.7.0 in /Users/baegjonghun/.pyenv/versions/3.11.10/lib/python3.11/site-packages (from anthropic) (1.9.0)\n",
      "Requirement already satisfied: httpx<1,>=0.25.0 in /Users/baegjonghun/.pyenv/versions/3.11.10/lib/python3.11/site-packages (from anthropic) (0.28.1)\n",
      "Requirement already satisfied: jiter<1,>=0.4.0 in /Users/baegjonghun/.pyenv/versions/3.11.10/lib/python3.11/site-packages (from anthropic) (0.9.0)\n",
      "Requirement already satisfied: sniffio in /Users/baegjonghun/.pyenv/versions/3.11.10/lib/python3.11/site-packages (from anthropic) (1.3.1)\n",
      "Requirement already satisfied: typing-extensions<5,>=4.10 in /Users/baegjonghun/.pyenv/versions/3.11.10/lib/python3.11/site-packages (from anthropic) (4.14.1)\n",
      "Requirement already satisfied: idna>=2.8 in /Users/baegjonghun/.pyenv/versions/3.11.10/lib/python3.11/site-packages (from anyio<5,>=3.5.0->anthropic) (3.10)\n",
      "Requirement already satisfied: certifi in /Users/baegjonghun/.pyenv/versions/3.11.10/lib/python3.11/site-packages (from httpx<1,>=0.25.0->anthropic) (2025.7.9)\n",
      "Requirement already satisfied: httpcore==1.* in /Users/baegjonghun/.pyenv/versions/3.11.10/lib/python3.11/site-packages (from httpx<1,>=0.25.0->anthropic) (1.0.9)\n",
      "Requirement already satisfied: h11>=0.16 in /Users/baegjonghun/.pyenv/versions/3.11.10/lib/python3.11/site-packages (from httpcore==1.*->httpx<1,>=0.25.0->anthropic) (0.16.0)\n",
      "Requirement already satisfied: langsmith>=0.3.45 in /Users/baegjonghun/.pyenv/versions/3.11.10/lib/python3.11/site-packages (from langchain-core<1.0.0,>=0.3.68->langchain-anthropic) (0.4.5)\n",
      "Requirement already satisfied: tenacity!=8.4.0,<10.0.0,>=8.1.0 in /Users/baegjonghun/.pyenv/versions/3.11.10/lib/python3.11/site-packages (from langchain-core<1.0.0,>=0.3.68->langchain-anthropic) (9.1.2)\n",
      "Requirement already satisfied: jsonpatch<2.0,>=1.33 in /Users/baegjonghun/.pyenv/versions/3.11.10/lib/python3.11/site-packages (from langchain-core<1.0.0,>=0.3.68->langchain-anthropic) (1.33)\n",
      "Requirement already satisfied: PyYAML>=5.3 in /Users/baegjonghun/.pyenv/versions/3.11.10/lib/python3.11/site-packages (from langchain-core<1.0.0,>=0.3.68->langchain-anthropic) (6.0.2)\n",
      "Requirement already satisfied: packaging>=23.2 in /Users/baegjonghun/.pyenv/versions/3.11.10/lib/python3.11/site-packages (from langchain-core<1.0.0,>=0.3.68->langchain-anthropic) (24.2)\n",
      "Requirement already satisfied: jsonpointer>=1.9 in /Users/baegjonghun/.pyenv/versions/3.11.10/lib/python3.11/site-packages (from jsonpatch<2.0,>=1.33->langchain-core<1.0.0,>=0.3.68->langchain-anthropic) (3.0.0)\n",
      "Requirement already satisfied: annotated-types>=0.6.0 in /Users/baegjonghun/.pyenv/versions/3.11.10/lib/python3.11/site-packages (from pydantic<3.0.0,>=2.7.4->langchain-anthropic) (0.7.0)\n",
      "Requirement already satisfied: pydantic-core==2.33.1 in /Users/baegjonghun/.pyenv/versions/3.11.10/lib/python3.11/site-packages (from pydantic<3.0.0,>=2.7.4->langchain-anthropic) (2.33.1)\n",
      "Requirement already satisfied: typing-inspection>=0.4.0 in /Users/baegjonghun/.pyenv/versions/3.11.10/lib/python3.11/site-packages (from pydantic<3.0.0,>=2.7.4->langchain-anthropic) (0.4.0)\n",
      "Requirement already satisfied: orjson<4.0.0,>=3.9.14 in /Users/baegjonghun/.pyenv/versions/3.11.10/lib/python3.11/site-packages (from langsmith>=0.3.45->langchain-core<1.0.0,>=0.3.68->langchain-anthropic) (3.10.18)\n",
      "Requirement already satisfied: requests<3,>=2 in /Users/baegjonghun/.pyenv/versions/3.11.10/lib/python3.11/site-packages (from langsmith>=0.3.45->langchain-core<1.0.0,>=0.3.68->langchain-anthropic) (2.32.4)\n",
      "Requirement already satisfied: requests-toolbelt<2.0.0,>=1.0.0 in /Users/baegjonghun/.pyenv/versions/3.11.10/lib/python3.11/site-packages (from langsmith>=0.3.45->langchain-core<1.0.0,>=0.3.68->langchain-anthropic) (1.0.0)\n",
      "Requirement already satisfied: zstandard<0.24.0,>=0.23.0 in /Users/baegjonghun/.pyenv/versions/3.11.10/lib/python3.11/site-packages (from langsmith>=0.3.45->langchain-core<1.0.0,>=0.3.68->langchain-anthropic) (0.23.0)\n",
      "Requirement already satisfied: charset_normalizer<4,>=2 in /Users/baegjonghun/.pyenv/versions/3.11.10/lib/python3.11/site-packages (from requests<3,>=2->langsmith>=0.3.45->langchain-core<1.0.0,>=0.3.68->langchain-anthropic) (3.4.2)\n",
      "Requirement already satisfied: urllib3<3,>=1.21.1 in /Users/baegjonghun/.pyenv/versions/3.11.10/lib/python3.11/site-packages (from requests<3,>=2->langsmith>=0.3.45->langchain-core<1.0.0,>=0.3.68->langchain-anthropic) (2.5.0)\n"
     ]
    }
   ],
   "source": [
    "!pip install langchain-anthropic anthropic"
   ]
  },
  {
   "cell_type": "code",
   "execution_count": 9,
   "id": "047cabe8",
   "metadata": {},
   "outputs": [],
   "source": [
    "from langchain_core.output_parsers import StrOutputParser\n",
    "from langchain_core.prompts import ChatPromptTemplate\n",
    "from langchain_anthropic import ChatAnthropic\n",
    "import asyncio"
   ]
  },
  {
   "cell_type": "code",
   "execution_count": null,
   "id": "f59a01bf",
   "metadata": {},
   "outputs": [],
   "source": [
    "# 1. 프롬프트, LLM, 파서로 체인 만들기\n",
    "prompt = ChatPromptTemplate.from_template(\"앵무새에 대한 농담 하나만 해줘!\")\n",
    "model = ChatAnthropic(\n",
    "    model=\"claude-3-5-haiku-20241022\",  # 원하는 모델명 사용\n",
    "    streaming=True                     # 스트리밍 활성화\n",
    ")\n",
    "parser = StrOutputParser()\n",
    "chain = prompt | model | parser\n"
   ]
  },
  {
   "cell_type": "code",
   "execution_count": 14,
   "id": "cd3d9884",
   "metadata": {},
   "outputs": [],
   "source": [
    "# 2. 비동기 스트리밍 실행 함수 \n",
    "async def main():\n",
    "    # chain.astream()은 텍스트 chunk 단위로 스트림!\n",
    "    async for chunk in chain.astream({}):\n",
    "        print(chunk, end=\"\", flush=True)\n"
   ]
  },
  {
   "cell_type": "code",
   "execution_count": 15,
   "id": "644e2537",
   "metadata": {},
   "outputs": [
    {
     "name": "stdout",
     "output_type": "stream",
     "text": [
      "여기 앵무새 농담 하나 있어요:\n",
      "\n",
      "앵무새가 주인에게 물었어요. \"내 이름이 뭐야?\"\n",
      "주인이 대답했죠. \"앵무새야.\"\n",
      "그러자 앵무새가 말했어요. \"아, 그렇구나. 내가 물어본 걸 깜빡했네!\""
     ]
    }
   ],
   "source": [
    "# 3. 실행\n",
    "await main()"
   ]
  },
  {
   "cell_type": "code",
   "execution_count": null,
   "id": "ce1e6a04",
   "metadata": {},
   "outputs": [],
   "source": []
  }
 ],
 "metadata": {
  "kernelspec": {
   "display_name": "3.11.10",
   "language": "python",
   "name": "python3"
  },
  "language_info": {
   "codemirror_mode": {
    "name": "ipython",
    "version": 3
   },
   "file_extension": ".py",
   "mimetype": "text/x-python",
   "name": "python",
   "nbconvert_exporter": "python",
   "pygments_lexer": "ipython3",
   "version": "3.11.10"
  }
 },
 "nbformat": 4,
 "nbformat_minor": 5
}
