{
 "cells": [
  {
   "cell_type": "markdown",
   "id": "2004ba21",
   "metadata": {},
   "source": [
    "RAG - Loader(UpstageDocumentParseLoader)"
   ]
  },
  {
   "cell_type": "code",
   "execution_count": null,
   "id": "93d9a1f9",
   "metadata": {},
   "outputs": [],
   "source": [
    "# 로더 실행\n",
    "from dotenv import load_dotenv\n",
    "from langchain_upstage import UpstageDocumentParseLoader\n",
    "\n",
    "file_path = \"./test_modified.pdf\"\n",
    "\n",
    "loader = UpstageDocumentParseLoader(\n",
    "    file_path,\n",
    "    split=\"page\",  # 페이지별로 분할\n",
    "    output_format=\"markdown\",  # 텍스트 형태로 출력\n",
    "    ocr=\"auto\",  # 자동 OCR 사용\n",
    "    coordinates=True,  # 좌표 정보 포함\n",
    ")\n",
    "\n",
    "\n",
    "docs = loader.load()"
   ]
  },
  {
   "cell_type": "code",
   "execution_count": null,
   "id": "e59fa30a",
   "metadata": {},
   "outputs": [],
   "source": [
    "# print(docs[21].page_content)\n",
    "print(docs[0])"
   ]
  },
  {
   "cell_type": "markdown",
   "id": "3d44f9b7",
   "metadata": {},
   "source": [
    "Rag - Chunking"
   ]
  },
  {
   "cell_type": "code",
   "execution_count": null,
   "id": "bfdbda95",
   "metadata": {},
   "outputs": [],
   "source": [
    "from langchain.text_splitter import RecursiveCharacterTextSplitter\n",
    "\n",
    "#  문서 자르기 (AI가 읽기 쉬운 크기로 쪼개기)\n",
    "splitter = RecursiveCharacterTextSplitter(chunk_size=1500, chunk_overlap=300)\n",
    "docs_splitter = splitter.split_documents(docs) "
   ]
  },
  {
   "cell_type": "markdown",
   "id": "caf3aab1",
   "metadata": {},
   "source": [
    "Rag - Embedding"
   ]
  },
  {
   "cell_type": "code",
   "execution_count": 22,
   "id": "78aeb166",
   "metadata": {},
   "outputs": [],
   "source": [
    "from langchain_huggingface import HuggingFaceEmbeddings\n",
    "\n",
    "model_name = \"intfloat/multilingual-e5-large-instruct\"\n",
    "\n",
    "hf_embeddings = HuggingFaceEmbeddings(\n",
    "    model_name=model_name,\n",
    "    model_kwargs={\"device\": \"mps\"},\n",
    "    encode_kwargs={\"normalize_embeddings\": True},\n",
    ")"
   ]
  },
  {
   "cell_type": "markdown",
   "id": "f52858f3",
   "metadata": {},
   "source": [
    "Rag - Vector Store"
   ]
  },
  {
   "cell_type": "code",
   "execution_count": 24,
   "id": "72f2ba44",
   "metadata": {},
   "outputs": [],
   "source": [
    "from langchain_community.vectorstores import FAISS\n",
    "from langchain_community.docstore.in_memory import InMemoryDocstore\n",
    "import faiss\n",
    "\n",
    "# 올바른 변수명 사용\n",
    "vectorstore = FAISS.from_documents(\n",
    "    documents=docs_splitter,  # 기존 변수명 그대로 사용\n",
    "    embedding=hf_embeddings,  # 임베딩 모델\n",
    ")"
   ]
  },
  {
   "cell_type": "markdown",
   "id": "e647a517",
   "metadata": {},
   "source": [
    "Rag - retriever"
   ]
  },
  {
   "cell_type": "code",
   "execution_count": 25,
   "id": "27a3da38",
   "metadata": {},
   "outputs": [],
   "source": [
    "retriever = vectorstore.as_retriever(\n",
    "    search_type=\"similarity\",  # 유사도 검색\n",
    "    search_kwargs={\"k\": 5},  # 상위 5개 결과 반환\n",
    ")"
   ]
  },
  {
   "cell_type": "markdown",
   "id": "b14cfc99",
   "metadata": {},
   "source": [
    "Rag - Formatting / Prompt"
   ]
  },
  {
   "cell_type": "code",
   "execution_count": 26,
   "id": "30217fef",
   "metadata": {},
   "outputs": [],
   "source": [
    "from langchain_anthropic import ChatAnthropic\n",
    "from langchain.prompts import ChatPromptTemplate\n",
    "from langchain_core.runnables import RunnablePassthrough\n",
    "from langchain_core.output_parsers import StrOutputParser\n",
    "from langchain import hub\n",
    "from langchain_core.chat_history import InMemoryChatMessageHistory"
   ]
  },
  {
   "cell_type": "code",
   "execution_count": null,
   "id": "d85ea006",
   "metadata": {},
   "outputs": [],
   "source": [
    "# LLM 설정 (스트리밍 활성화)\n",
    "llm = ChatAnthropic(model=\"claude-3-5-haiku-20241022\", temperature=0, streaming=True)\n",
    "\n",
    "# 대화 기록 저장소\n",
    "chat_history = InMemoryChatMessageHistory()\n",
    "\n",
    "\n",
    "# 문서 포맷팅 함수\n",
    "def format_docs(docs):\n",
    "    return \"\\n\\n\".join(doc.page_content for doc in docs)\n",
    "\n",
    "\n",
    "# RAG + 멀티턴 프롬프트 템플릿\n",
    "prompt = ChatPromptTemplate.from_messages(\n",
    "    [\n",
    "        (\n",
    "            \"system\",\n",
    "            \"\"\"너는 친절한 한국어 AI 비서야. \n",
    "        제공된 문서 내용(context)과 이전 대화 내용을 참고해서 질문에 답해.\n",
    "        반드시 한국어로만 대답하고, 문서에 없는 내용은 일반 지식으로 보완해서 답변해.\n",
    "        \n",
    "        참고 문서:\n",
    "        {context}\n",
    "        \"\"\",\n",
    "        ),\n",
    "        (\"placeholder\", \"{chat_history}\"),\n",
    "        (\"user\", \"{input}\"),\n",
    "    ]\n",
    ")\n",
    "\n",
    "# RAG 체인 구성 (멀티턴 지원)\n",
    "rag_multiturn_chain = (\n",
    "    {\"context\": retriever | format_docs, \"input\": lambda x: x[\"input\"]}\n",
    "    | prompt\n",
    "    | llm\n",
    "    | StrOutputParser()\n",
    ")"
   ]
  },
  {
   "cell_type": "code",
   "execution_count": null,
   "id": "9f085836",
   "metadata": {},
   "outputs": [],
   "source": [
    "def limit_chat_history(history_obj, max_turns=3):\n",
    "    \"\"\"최근 'max_turns'번의 사용자-AI 대화만 남기기\"\"\"\n",
    "    max_messages = max_turns * 2\n",
    "    if len(history_obj.messages) > max_messages:\n",
    "        deleted_count = len(history_obj.messages) - max_messages  \n",
    "        for _ in range(deleted_count):\n",
    "            history_obj.messages.pop(0)\n",
    "\n",
    "\n",
    "def stream_rag_multiturn_response(user_input):\n",
    "    \"\"\"RAG + 멀티턴 대화를 스트리밍으로 처리\"\"\"\n",
    "\n",
    "    # 사용자 입력 저장\n",
    "    chat_history.add_user_message(user_input)\n",
    "\n",
    "    # 히스토리 제한 적용\n",
    "    limit_chat_history(chat_history)\n",
    "\n",
    "    print(f\"🙋 사용자: {user_input}\")\n",
    "    print(\"🤖 AI: \", end=\"\", flush=True)\n",
    "\n",
    "    response = \"\"\n",
    "\n",
    "    try:\n",
    "        response = \"\"\n",
    "        # # 프롬프트에 히스토리 직접 바인딩\n",
    "        prompt_with_history = prompt.partial(chat_history=chat_history.messages[:-1])\n",
    "\n",
    "        # 체인 재구성\n",
    "        chain_with_history = (\n",
    "            {\"context\": retriever | format_docs, \"input\": lambda x: x}\n",
    "            | prompt_with_history\n",
    "            | llm\n",
    "            | StrOutputParser()\n",
    "        )\n",
    "\n",
    "        # 스트리밍으로 응답 받기\n",
    "        for chunk in chain_with_history.stream(user_input):\n",
    "            print(chunk, end=\"\", flush=True)\n",
    "            response += chunk\n",
    "\n",
    "        print()  # 줄바꿈\n",
    "\n",
    "        # AI 응답 저장\n",
    "        chat_history.add_ai_message(response)\n",
    "\n",
    "        return response\n",
    "\n",
    "    except Exception as e:\n",
    "        error_msg = f\"❌ 오류 발생: {str(e)}\"\n",
    "        print(error_msg)\n",
    "        return error_msg"
   ]
  },
  {
   "cell_type": "markdown",
   "id": "66854ea8",
   "metadata": {},
   "source": [
    "Rag - Streaming"
   ]
  },
  {
   "cell_type": "code",
   "execution_count": null,
   "id": "87bccbd4",
   "metadata": {},
   "outputs": [],
   "source": [
    "# 대화형 인터페이스\n",
    "def interactive_chat():\n",
    "    \"\"\"대화형 채팅 인터페이스\"\"\"\n",
    "    print(\"=\" * 60)\n",
    "    print(\"🤖 RAG 챗봇 시작!\")\n",
    "    print(\"💡 '종료' 입력 시 대화를 끝냅니다.\")\n",
    "    print(\"=\" * 60)\n",
    "\n",
    "\n",
    "    try:\n",
    "        while True:\n",
    "            try:\n",
    "                user_input = input(\"\\n🙋 사용자: \").strip()\n",
    "\n",
    "                if user_input.lower() == \"종료\":\n",
    "                    print(\"👋 채팅을 종료합니다!\")\n",
    "                    break\n",
    "\n",
    "                \n",
    "                # stream_rag_multiturn_response(user_input)\n",
    "\n",
    "                # 스트리밍 응답 처리\n",
    "                stream_rag_multiturn_response(user_input)\n",
    "\n",
    "            except KeyboardInterrupt:\n",
    "                print(\"\\n채팅을 종료합니다!\")\n",
    "                break\n",
    "\n",
    "    finally:\n",
    "        \n",
    "        chat_history.clear()"
   ]
  },
  {
   "cell_type": "markdown",
   "id": "e1ba8109",
   "metadata": {},
   "source": [
    "Rag - QnA"
   ]
  },
  {
   "cell_type": "code",
   "execution_count": 33,
   "id": "c3a2ecd2",
   "metadata": {},
   "outputs": [
    {
     "name": "stdout",
     "output_type": "stream",
     "text": [
      "============================================================\n",
      "🤖 RAG 챗봇 시작!\n",
      "💡 '종료' 입력 시 대화를 끝냅니다.\n",
      "============================================================\n",
      "🙋 사용자: 안녕\n",
      "🤖 AI: 안녕하세요! 아주대학교에 대해 궁금한 점이 있으시면 언제든 물어보세요. 제가 최선을 다해 답변해드리겠습니다.\n",
      "👋 채팅을 종료합니다!\n"
     ]
    }
   ],
   "source": [
    "if __name__ == \"__main__\":\n",
    "    interactive_chat()  # 대화형 모드 실행"
   ]
  },
  {
   "cell_type": "code",
   "execution_count": null,
   "id": "bb593f70",
   "metadata": {},
   "outputs": [],
   "source": []
  },
  {
   "cell_type": "code",
   "execution_count": null,
   "id": "c710067c",
   "metadata": {},
   "outputs": [],
   "source": []
  },
  {
   "cell_type": "code",
   "execution_count": null,
   "id": "a8bf7064",
   "metadata": {},
   "outputs": [],
   "source": []
  }
 ],
 "metadata": {
  "kernelspec": {
   "display_name": "3.11.10",
   "language": "python",
   "name": "python3"
  },
  "language_info": {
   "codemirror_mode": {
    "name": "ipython",
    "version": 3
   },
   "file_extension": ".py",
   "mimetype": "text/x-python",
   "name": "python",
   "nbconvert_exporter": "python",
   "pygments_lexer": "ipython3",
   "version": "3.11.10"
  }
 },
 "nbformat": 4,
 "nbformat_minor": 5
}
